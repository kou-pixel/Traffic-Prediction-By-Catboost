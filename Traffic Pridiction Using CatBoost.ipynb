{
 "cells": [
  {
   "cell_type": "markdown",
   "id": "99e4ed4c",
   "metadata": {},
   "source": [
    "## Trafic Prediction Using CatBoost"
   ]
  },
  {
   "cell_type": "markdown",
   "id": "aba77c46",
   "metadata": {},
   "source": [
    "## Importing Libraries"
   ]
  },
  {
   "cell_type": "code",
   "execution_count": 58,
   "id": "b3d5f3b3",
   "metadata": {},
   "outputs": [],
   "source": [
    "import pandas as pd\n",
    "import numpy as np\n",
    "import seaborn as sns\n",
    "import matplotlib.pyplot as plt\n",
    "%matplotlib inline\n",
    "from warnings import filterwarnings\n",
    "filterwarnings('ignore')"
   ]
  },
  {
   "cell_type": "markdown",
   "id": "264c461f",
   "metadata": {},
   "source": [
    "## Dtat Import"
   ]
  },
  {
   "cell_type": "code",
   "execution_count": 59,
   "id": "808cd253",
   "metadata": {},
   "outputs": [
    {
     "data": {
      "text/html": [
       "<div>\n",
       "<style scoped>\n",
       "    .dataframe tbody tr th:only-of-type {\n",
       "        vertical-align: middle;\n",
       "    }\n",
       "\n",
       "    .dataframe tbody tr th {\n",
       "        vertical-align: top;\n",
       "    }\n",
       "\n",
       "    .dataframe thead th {\n",
       "        text-align: right;\n",
       "    }\n",
       "</style>\n",
       "<table border=\"1\" class=\"dataframe\">\n",
       "  <thead>\n",
       "    <tr style=\"text-align: right;\">\n",
       "      <th></th>\n",
       "      <th>Time</th>\n",
       "      <th>Date</th>\n",
       "      <th>Day of the week</th>\n",
       "      <th>CarCount</th>\n",
       "      <th>BikeCount</th>\n",
       "      <th>BusCount</th>\n",
       "      <th>TruckCount</th>\n",
       "      <th>Total</th>\n",
       "      <th>Traffic Situation</th>\n",
       "    </tr>\n",
       "  </thead>\n",
       "  <tbody>\n",
       "    <tr>\n",
       "      <th>0</th>\n",
       "      <td>12:00:00 AM</td>\n",
       "      <td>10</td>\n",
       "      <td>Tuesday</td>\n",
       "      <td>31</td>\n",
       "      <td>0</td>\n",
       "      <td>4</td>\n",
       "      <td>4</td>\n",
       "      <td>39</td>\n",
       "      <td>low</td>\n",
       "    </tr>\n",
       "    <tr>\n",
       "      <th>1</th>\n",
       "      <td>12:15:00 AM</td>\n",
       "      <td>10</td>\n",
       "      <td>Tuesday</td>\n",
       "      <td>49</td>\n",
       "      <td>0</td>\n",
       "      <td>3</td>\n",
       "      <td>3</td>\n",
       "      <td>55</td>\n",
       "      <td>low</td>\n",
       "    </tr>\n",
       "    <tr>\n",
       "      <th>2</th>\n",
       "      <td>12:30:00 AM</td>\n",
       "      <td>10</td>\n",
       "      <td>Tuesday</td>\n",
       "      <td>46</td>\n",
       "      <td>0</td>\n",
       "      <td>3</td>\n",
       "      <td>6</td>\n",
       "      <td>55</td>\n",
       "      <td>low</td>\n",
       "    </tr>\n",
       "    <tr>\n",
       "      <th>3</th>\n",
       "      <td>12:45:00 AM</td>\n",
       "      <td>10</td>\n",
       "      <td>Tuesday</td>\n",
       "      <td>51</td>\n",
       "      <td>0</td>\n",
       "      <td>2</td>\n",
       "      <td>5</td>\n",
       "      <td>58</td>\n",
       "      <td>low</td>\n",
       "    </tr>\n",
       "    <tr>\n",
       "      <th>4</th>\n",
       "      <td>1:00:00 AM</td>\n",
       "      <td>10</td>\n",
       "      <td>Tuesday</td>\n",
       "      <td>57</td>\n",
       "      <td>6</td>\n",
       "      <td>15</td>\n",
       "      <td>16</td>\n",
       "      <td>94</td>\n",
       "      <td>normal</td>\n",
       "    </tr>\n",
       "  </tbody>\n",
       "</table>\n",
       "</div>"
      ],
      "text/plain": [
       "          Time  Date Day of the week  CarCount  BikeCount  BusCount  \\\n",
       "0  12:00:00 AM    10         Tuesday        31          0         4   \n",
       "1  12:15:00 AM    10         Tuesday        49          0         3   \n",
       "2  12:30:00 AM    10         Tuesday        46          0         3   \n",
       "3  12:45:00 AM    10         Tuesday        51          0         2   \n",
       "4   1:00:00 AM    10         Tuesday        57          6        15   \n",
       "\n",
       "   TruckCount  Total Traffic Situation  \n",
       "0           4     39               low  \n",
       "1           3     55               low  \n",
       "2           6     55               low  \n",
       "3           5     58               low  \n",
       "4          16     94            normal  "
      ]
     },
     "execution_count": 59,
     "metadata": {},
     "output_type": "execute_result"
    }
   ],
   "source": [
    "df=pd.read_csv(r\"C:\\Users\\USER\\Downloads\\Traffic.csv\")\n",
    "df.head()"
   ]
  },
  {
   "cell_type": "markdown",
   "id": "f0cbd868",
   "metadata": {},
   "source": [
    "## Data Analysis"
   ]
  },
  {
   "cell_type": "code",
   "execution_count": 60,
   "id": "7cec2f07",
   "metadata": {},
   "outputs": [
    {
     "data": {
      "text/plain": [
       "(2976, 9)"
      ]
     },
     "execution_count": 60,
     "metadata": {},
     "output_type": "execute_result"
    }
   ],
   "source": [
    "df.shape"
   ]
  },
  {
   "cell_type": "markdown",
   "id": "9d205494",
   "metadata": {},
   "source": [
    "## Checking For NullValues"
   ]
  },
  {
   "cell_type": "code",
   "execution_count": 61,
   "id": "361d0a28",
   "metadata": {},
   "outputs": [
    {
     "data": {
      "text/plain": [
       "Time                 0\n",
       "Date                 0\n",
       "Day of the week      0\n",
       "CarCount             0\n",
       "BikeCount            0\n",
       "BusCount             0\n",
       "TruckCount           0\n",
       "Total                0\n",
       "Traffic Situation    0\n",
       "dtype: int64"
      ]
     },
     "execution_count": 61,
     "metadata": {},
     "output_type": "execute_result"
    }
   ],
   "source": [
    "df.isnull().sum()"
   ]
  },
  {
   "cell_type": "markdown",
   "id": "8420ae74",
   "metadata": {},
   "source": [
    "From the above we can see that there are no null vlues iin the given data"
   ]
  },
  {
   "cell_type": "code",
   "execution_count": 62,
   "id": "da5317db",
   "metadata": {},
   "outputs": [
    {
     "data": {
      "image/png": "[encoded data removed]",
      "text/plain": [
       "<Figure size 640x480 with 1 Axes>"
      ]
     },
     "metadata": {},
     "output_type": "display_data"
    }
   ],
   "source": [
    "## WE can also see find out null values by using HeatMap\n",
    "sns.heatmap(df.isnull(),yticklabels=False,cbar=False,cmap='viridis')\n",
    "plt.show()"
   ]
  },
  {
   "cell_type": "markdown",
   "id": "ce7ccc98",
   "metadata": {},
   "source": [
    "* From the above heat we can confirm that there are no null values in the data"
   ]
  },
  {
   "cell_type": "code",
   "execution_count": 63,
   "id": "81e7c250",
   "metadata": {},
   "outputs": [
    {
     "name": "stdout",
     "output_type": "stream",
     "text": [
      "Duplicate Rows :\n"
     ]
    }
   ],
   "source": [
    "duplicate = df[df.duplicated()]\n",
    " \n",
    "print(\"Duplicate Rows :\")"
   ]
  },
  {
   "cell_type": "markdown",
   "id": "21670151",
   "metadata": {},
   "source": [
    "* We can see that there are no duplicate values"
   ]
  },
  {
   "cell_type": "code",
   "execution_count": 64,
   "id": "9484168e",
   "metadata": {},
   "outputs": [
    {
     "name": "stdout",
     "output_type": "stream",
     "text": [
      "<class 'pandas.core.frame.DataFrame'>\n",
      "RangeIndex: 2976 entries, 0 to 2975\n",
      "Data columns (total 9 columns):\n",
      " #   Column             Non-Null Count  Dtype \n",
      "---  ------             --------------  ----- \n",
      " 0   Time               2976 non-null   object\n",
      " 1   Date               2976 non-null   int64 \n",
      " 2   Day of the week    2976 non-null   object\n",
      " 3   CarCount           2976 non-null   int64 \n",
      " 4   BikeCount          2976 non-null   int64 \n",
      " 5   BusCount           2976 non-null   int64 \n",
      " 6   TruckCount         2976 non-null   int64 \n",
      " 7   Total              2976 non-null   int64 \n",
      " 8   Traffic Situation  2976 non-null   object\n",
      "dtypes: int64(6), object(3)\n",
      "memory usage: 209.4+ KB\n"
     ]
    }
   ],
   "source": [
    "df.info()"
   ]
  },
  {
   "cell_type": "code",
   "execution_count": 65,
   "id": "2ba2da8b",
   "metadata": {},
   "outputs": [
    {
     "data": {
      "text/plain": [
       "Index(['Date', 'CarCount', 'BikeCount', 'BusCount', 'TruckCount', 'Total'], dtype='object')"
      ]
     },
     "execution_count": 65,
     "metadata": {},
     "output_type": "execute_result"
    }
   ],
   "source": [
    " df.select_dtypes(exclude='object').columns"
   ]
  },
  {
   "cell_type": "code",
   "execution_count": 66,
   "id": "3e4e4595",
   "metadata": {},
   "outputs": [
    {
     "data": {
      "text/plain": [
       "Index(['Time', 'Day of the week', 'Traffic Situation'], dtype='object')"
      ]
     },
     "execution_count": 66,
     "metadata": {},
     "output_type": "execute_result"
    }
   ],
   "source": [
    " df.select_dtypes(include='object').columns"
   ]
  },
  {
   "cell_type": "code",
   "execution_count": 67,
   "id": "01ceca42",
   "metadata": {},
   "outputs": [
    {
     "data": {
      "text/plain": [
       "Time                 object\n",
       "Date                  int64\n",
       "Day of the week      object\n",
       "CarCount              int64\n",
       "BikeCount             int64\n",
       "BusCount              int64\n",
       "TruckCount            int64\n",
       "Total                 int64\n",
       "Traffic Situation    object\n",
       "dtype: object"
      ]
     },
     "execution_count": 67,
     "metadata": {},
     "output_type": "execute_result"
    }
   ],
   "source": [
    "df.dtypes"
   ]
  },
  {
   "cell_type": "code",
   "execution_count": 68,
   "id": "5519986d",
   "metadata": {},
   "outputs": [
    {
     "data": {
      "text/plain": [
       "Time                  96\n",
       "Date                  31\n",
       "Day of the week        7\n",
       "CarCount             172\n",
       "BikeCount             71\n",
       "BusCount              51\n",
       "TruckCount            41\n",
       "Total                239\n",
       "Traffic Situation      4\n",
       "dtype: int64"
      ]
     },
     "execution_count": 68,
     "metadata": {},
     "output_type": "execute_result"
    }
   ],
   "source": [
    "df.nunique()"
   ]
  },
  {
   "cell_type": "code",
   "execution_count": 69,
   "id": "f5923cb1",
   "metadata": {},
   "outputs": [],
   "source": [
    "df.drop_duplicates(inplace=True)"
   ]
  },
  {
   "cell_type": "markdown",
   "id": "7ceeb88e",
   "metadata": {},
   "source": [
    "## Descriptive Statistics"
   ]
  },
  {
   "cell_type": "code",
   "execution_count": 70,
   "id": "4516a6a8",
   "metadata": {},
   "outputs": [
    {
     "data": {
      "text/html": [
       "<div>\n",
       "<style scoped>\n",
       "    .dataframe tbody tr th:only-of-type {\n",
       "        vertical-align: middle;\n",
       "    }\n",
       "\n",
       "    .dataframe tbody tr th {\n",
       "        vertical-align: top;\n",
       "    }\n",
       "\n",
       "    .dataframe thead th {\n",
       "        text-align: right;\n",
       "    }\n",
       "</style>\n",
       "<table border=\"1\" class=\"dataframe\">\n",
       "  <thead>\n",
       "    <tr style=\"text-align: right;\">\n",
       "      <th></th>\n",
       "      <th>count</th>\n",
       "      <th>mean</th>\n",
       "      <th>std</th>\n",
       "      <th>min</th>\n",
       "      <th>25%</th>\n",
       "      <th>50%</th>\n",
       "      <th>75%</th>\n",
       "      <th>max</th>\n",
       "    </tr>\n",
       "  </thead>\n",
       "  <tbody>\n",
       "    <tr>\n",
       "      <th>Date</th>\n",
       "      <td>2976.0</td>\n",
       "      <td>16.000000</td>\n",
       "      <td>8.945775</td>\n",
       "      <td>1.0</td>\n",
       "      <td>8.0</td>\n",
       "      <td>16.0</td>\n",
       "      <td>24.0</td>\n",
       "      <td>31.0</td>\n",
       "    </tr>\n",
       "    <tr>\n",
       "      <th>CarCount</th>\n",
       "      <td>2976.0</td>\n",
       "      <td>68.696573</td>\n",
       "      <td>45.850693</td>\n",
       "      <td>6.0</td>\n",
       "      <td>19.0</td>\n",
       "      <td>64.0</td>\n",
       "      <td>107.0</td>\n",
       "      <td>180.0</td>\n",
       "    </tr>\n",
       "    <tr>\n",
       "      <th>BikeCount</th>\n",
       "      <td>2976.0</td>\n",
       "      <td>14.917339</td>\n",
       "      <td>12.847518</td>\n",
       "      <td>0.0</td>\n",
       "      <td>5.0</td>\n",
       "      <td>12.0</td>\n",
       "      <td>22.0</td>\n",
       "      <td>70.0</td>\n",
       "    </tr>\n",
       "    <tr>\n",
       "      <th>BusCount</th>\n",
       "      <td>2976.0</td>\n",
       "      <td>15.279570</td>\n",
       "      <td>14.341986</td>\n",
       "      <td>0.0</td>\n",
       "      <td>1.0</td>\n",
       "      <td>12.0</td>\n",
       "      <td>25.0</td>\n",
       "      <td>50.0</td>\n",
       "    </tr>\n",
       "    <tr>\n",
       "      <th>TruckCount</th>\n",
       "      <td>2976.0</td>\n",
       "      <td>15.324933</td>\n",
       "      <td>10.603833</td>\n",
       "      <td>0.0</td>\n",
       "      <td>6.0</td>\n",
       "      <td>14.0</td>\n",
       "      <td>23.0</td>\n",
       "      <td>40.0</td>\n",
       "    </tr>\n",
       "    <tr>\n",
       "      <th>Total</th>\n",
       "      <td>2976.0</td>\n",
       "      <td>114.218414</td>\n",
       "      <td>60.190627</td>\n",
       "      <td>21.0</td>\n",
       "      <td>55.0</td>\n",
       "      <td>109.0</td>\n",
       "      <td>164.0</td>\n",
       "      <td>279.0</td>\n",
       "    </tr>\n",
       "  </tbody>\n",
       "</table>\n",
       "</div>"
      ],
      "text/plain": [
       "             count        mean        std   min   25%    50%    75%    max\n",
       "Date        2976.0   16.000000   8.945775   1.0   8.0   16.0   24.0   31.0\n",
       "CarCount    2976.0   68.696573  45.850693   6.0  19.0   64.0  107.0  180.0\n",
       "BikeCount   2976.0   14.917339  12.847518   0.0   5.0   12.0   22.0   70.0\n",
       "BusCount    2976.0   15.279570  14.341986   0.0   1.0   12.0   25.0   50.0\n",
       "TruckCount  2976.0   15.324933  10.603833   0.0   6.0   14.0   23.0   40.0\n",
       "Total       2976.0  114.218414  60.190627  21.0  55.0  109.0  164.0  279.0"
      ]
     },
     "execution_count": 70,
     "metadata": {},
     "output_type": "execute_result"
    }
   ],
   "source": [
    "df.describe().T"
   ]
  },
  {
   "cell_type": "markdown",
   "id": "368073e2",
   "metadata": {},
   "source": [
    "## Data Visualization"
   ]
  },
  {
   "cell_type": "code",
   "execution_count": 71,
   "id": "6fbfb10c",
   "metadata": {},
   "outputs": [
    {
     "data": {
      "image/png": "[encoded data removed]",
      "text/plain": [
       "<Figure size 640x480 with 1 Axes>"
      ]
     },
     "metadata": {},
     "output_type": "display_data"
    }
   ],
   "source": [
    "sns.set_style('whitegrid')\n",
    "sns.countplot(x='Traffic Situation', data=df,palette='rainbow')\n",
    "plt.xlabel('Trafic Situation')\n",
    "plt.ylabel('Count')\n",
    "plt.title('Distribution of Traffic Situation')\n",
    "plt.show()"
   ]
  },
  {
   "cell_type": "code",
   "execution_count": 72,
   "id": "bb5c63ca",
   "metadata": {},
   "outputs": [
    {
     "data": {
      "text/html": [
       "<div>\n",
       "<style scoped>\n",
       "    .dataframe tbody tr th:only-of-type {\n",
       "        vertical-align: middle;\n",
       "    }\n",
       "\n",
       "    .dataframe tbody tr th {\n",
       "        vertical-align: top;\n",
       "    }\n",
       "\n",
       "    .dataframe thead th {\n",
       "        text-align: right;\n",
       "    }\n",
       "</style>\n",
       "<table border=\"1\" class=\"dataframe\">\n",
       "  <thead>\n",
       "    <tr style=\"text-align: right;\">\n",
       "      <th></th>\n",
       "      <th>Time</th>\n",
       "      <th>Date</th>\n",
       "      <th>Day of the week</th>\n",
       "      <th>CarCount</th>\n",
       "      <th>BikeCount</th>\n",
       "      <th>BusCount</th>\n",
       "      <th>TruckCount</th>\n",
       "      <th>Total</th>\n",
       "      <th>Traffic Situation</th>\n",
       "    </tr>\n",
       "  </thead>\n",
       "  <tbody>\n",
       "    <tr>\n",
       "      <th>0</th>\n",
       "      <td>12:00:00 AM</td>\n",
       "      <td>10</td>\n",
       "      <td>Tuesday</td>\n",
       "      <td>31</td>\n",
       "      <td>0</td>\n",
       "      <td>4</td>\n",
       "      <td>4</td>\n",
       "      <td>39</td>\n",
       "      <td>low</td>\n",
       "    </tr>\n",
       "    <tr>\n",
       "      <th>1</th>\n",
       "      <td>12:15:00 AM</td>\n",
       "      <td>10</td>\n",
       "      <td>Tuesday</td>\n",
       "      <td>49</td>\n",
       "      <td>0</td>\n",
       "      <td>3</td>\n",
       "      <td>3</td>\n",
       "      <td>55</td>\n",
       "      <td>low</td>\n",
       "    </tr>\n",
       "    <tr>\n",
       "      <th>2</th>\n",
       "      <td>12:30:00 AM</td>\n",
       "      <td>10</td>\n",
       "      <td>Tuesday</td>\n",
       "      <td>46</td>\n",
       "      <td>0</td>\n",
       "      <td>3</td>\n",
       "      <td>6</td>\n",
       "      <td>55</td>\n",
       "      <td>low</td>\n",
       "    </tr>\n",
       "    <tr>\n",
       "      <th>3</th>\n",
       "      <td>12:45:00 AM</td>\n",
       "      <td>10</td>\n",
       "      <td>Tuesday</td>\n",
       "      <td>51</td>\n",
       "      <td>0</td>\n",
       "      <td>2</td>\n",
       "      <td>5</td>\n",
       "      <td>58</td>\n",
       "      <td>low</td>\n",
       "    </tr>\n",
       "    <tr>\n",
       "      <th>4</th>\n",
       "      <td>1:00:00 AM</td>\n",
       "      <td>10</td>\n",
       "      <td>Tuesday</td>\n",
       "      <td>57</td>\n",
       "      <td>6</td>\n",
       "      <td>15</td>\n",
       "      <td>16</td>\n",
       "      <td>94</td>\n",
       "      <td>normal</td>\n",
       "    </tr>\n",
       "  </tbody>\n",
       "</table>\n",
       "</div>"
      ],
      "text/plain": [
       "          Time  Date Day of the week  CarCount  BikeCount  BusCount  \\\n",
       "0  12:00:00 AM    10         Tuesday        31          0         4   \n",
       "1  12:15:00 AM    10         Tuesday        49          0         3   \n",
       "2  12:30:00 AM    10         Tuesday        46          0         3   \n",
       "3  12:45:00 AM    10         Tuesday        51          0         2   \n",
       "4   1:00:00 AM    10         Tuesday        57          6        15   \n",
       "\n",
       "   TruckCount  Total Traffic Situation  \n",
       "0           4     39               low  \n",
       "1           3     55               low  \n",
       "2           6     55               low  \n",
       "3           5     58               low  \n",
       "4          16     94            normal  "
      ]
     },
     "execution_count": 72,
     "metadata": {},
     "output_type": "execute_result"
    }
   ],
   "source": [
    "df.head()"
   ]
  },
  {
   "cell_type": "code",
   "execution_count": 73,
   "id": "5cf5a736",
   "metadata": {},
   "outputs": [],
   "source": [
    "days_order=['Monday','Tuesday','Wednesday','Thursday','Friday','Saturday','Sunday']\n",
    "df['Day of the week']=pd.Categorical(df['Day of the week'],categories=days_order,ordered=True)\n",
    "df=df.sort_values(by='Day of the week')\n",
    "summary=df.groupby('Day of the week')[['CarCount','BikeCount','BusCount','TruckCount']].sum().reset_index()"
   ]
  },
  {
   "cell_type": "markdown",
   "id": "f63d6406",
   "metadata": {},
   "source": [
    "## Setting 'Day of the week ' as th index for plotting"
   ]
  },
  {
   "cell_type": "code",
   "execution_count": 74,
   "id": "42c4df61",
   "metadata": {},
   "outputs": [],
   "source": [
    "summary.set_index('Day of the week',inplace=True)"
   ]
  },
  {
   "cell_type": "code",
   "execution_count": 75,
   "id": "87b7634c",
   "metadata": {},
   "outputs": [
    {
     "data": {
      "text/html": [
       "<div>\n",
       "<style scoped>\n",
       "    .dataframe tbody tr th:only-of-type {\n",
       "        vertical-align: middle;\n",
       "    }\n",
       "\n",
       "    .dataframe tbody tr th {\n",
       "        vertical-align: top;\n",
       "    }\n",
       "\n",
       "    .dataframe thead th {\n",
       "        text-align: right;\n",
       "    }\n",
       "</style>\n",
       "<table border=\"1\" class=\"dataframe\">\n",
       "  <thead>\n",
       "    <tr style=\"text-align: right;\">\n",
       "      <th></th>\n",
       "      <th>CarCount</th>\n",
       "      <th>BikeCount</th>\n",
       "      <th>BusCount</th>\n",
       "      <th>TruckCount</th>\n",
       "    </tr>\n",
       "    <tr>\n",
       "      <th>Day of the week</th>\n",
       "      <th></th>\n",
       "      <th></th>\n",
       "      <th></th>\n",
       "      <th></th>\n",
       "    </tr>\n",
       "  </thead>\n",
       "  <tbody>\n",
       "    <tr>\n",
       "      <th>Monday</th>\n",
       "      <td>25893</td>\n",
       "      <td>5064</td>\n",
       "      <td>6206</td>\n",
       "      <td>6213</td>\n",
       "    </tr>\n",
       "    <tr>\n",
       "      <th>Tuesday</th>\n",
       "      <td>33426</td>\n",
       "      <td>6627</td>\n",
       "      <td>7816</td>\n",
       "      <td>7446</td>\n",
       "    </tr>\n",
       "    <tr>\n",
       "      <th>Wednesday</th>\n",
       "      <td>33424</td>\n",
       "      <td>6704</td>\n",
       "      <td>7943</td>\n",
       "      <td>7783</td>\n",
       "    </tr>\n",
       "    <tr>\n",
       "      <th>Thursday</th>\n",
       "      <td>32704</td>\n",
       "      <td>6633</td>\n",
       "      <td>8027</td>\n",
       "      <td>7626</td>\n",
       "    </tr>\n",
       "    <tr>\n",
       "      <th>Friday</th>\n",
       "      <td>26478</td>\n",
       "      <td>8452</td>\n",
       "      <td>3154</td>\n",
       "      <td>3896</td>\n",
       "    </tr>\n",
       "    <tr>\n",
       "      <th>Saturday</th>\n",
       "      <td>26446</td>\n",
       "      <td>5624</td>\n",
       "      <td>6151</td>\n",
       "      <td>6265</td>\n",
       "    </tr>\n",
       "    <tr>\n",
       "      <th>Sunday</th>\n",
       "      <td>26070</td>\n",
       "      <td>5290</td>\n",
       "      <td>6175</td>\n",
       "      <td>6378</td>\n",
       "    </tr>\n",
       "  </tbody>\n",
       "</table>\n",
       "</div>"
      ],
      "text/plain": [
       "                 CarCount  BikeCount  BusCount  TruckCount\n",
       "Day of the week                                           \n",
       "Monday              25893       5064      6206        6213\n",
       "Tuesday             33426       6627      7816        7446\n",
       "Wednesday           33424       6704      7943        7783\n",
       "Thursday            32704       6633      8027        7626\n",
       "Friday              26478       8452      3154        3896\n",
       "Saturday            26446       5624      6151        6265\n",
       "Sunday              26070       5290      6175        6378"
      ]
     },
     "execution_count": 75,
     "metadata": {},
     "output_type": "execute_result"
    }
   ],
   "source": [
    "summary"
   ]
  },
  {
   "cell_type": "markdown",
   "id": "51f5998b",
   "metadata": {},
   "source": [
    "## Data Visualization"
   ]
  },
  {
   "cell_type": "code",
   "execution_count": 89,
   "id": "9318a77c",
   "metadata": {},
   "outputs": [
    {
     "data": {
      "image/png": "[encoded data removed]",
      "text/plain": [
       "<Figure size 1000x600 with 1 Axes>"
      ]
     },
     "metadata": {},
     "output_type": "display_data"
    }
   ],
   "source": [
    "sns.set_style('whitegrid')\n",
    "ax = summary.plot(kind=\"bar\", stacked=True, figsize=(10, 6))\n",
    "ax.set_xlabel(\"Day of the week\")\n",
    "ax.set_ylabel(\"Count\")\n",
    "ax.set_title(\"Vehicle Counts by Day of the Week\")\n",
    "ax.legend(title=\"Vehicle Type\")\n",
    "plt.xticks(rotation=45)\n",
    "plt.show()"
   ]
  },
  {
   "cell_type": "code",
   "execution_count": 96,
   "id": "4d86bae5",
   "metadata": {},
   "outputs": [
    {
     "data": {
      "image/png": "[encoded data removed]",
      "text/plain": [
       "<Figure size 640x480 with 1 Axes>"
      ]
     },
     "metadata": {},
     "output_type": "display_data"
    }
   ],
   "source": [
    "sns.set_style('darkgrid')\n",
    "sns.countplot(data=df,x='Day of the week',hue='Traffic Situation',palette='Set2')\n",
    "plt.xlabel('Day of the week')\n",
    "plt.ylabel('Count')\n",
    "plt.title('Traffic Situation by Day of the week')\n",
    "plt.show()"
   ]
  },
  {
   "cell_type": "code",
   "execution_count": 97,
   "id": "3fa71ef4",
   "metadata": {},
   "outputs": [],
   "source": [
    "## Extractiing the hour from the 'Time' column\n",
    "df['Hour']=pd.to_datetime(df['Time']).dt.hour\n",
    "\n",
    "## Grouping the data by hour and sum the counts\n",
    "hourly_traffic=df.groupby('Hour')[['CarCount','BikeCount','BusCount','TruckCount']].sum()"
   ]
  },
  {
   "cell_type": "code",
   "execution_count": 98,
   "id": "b22022de",
   "metadata": {},
   "outputs": [
    {
     "data": {
      "text/html": [
       "<div>\n",
       "<style scoped>\n",
       "    .dataframe tbody tr th:only-of-type {\n",
       "        vertical-align: middle;\n",
       "    }\n",
       "\n",
       "    .dataframe tbody tr th {\n",
       "        vertical-align: top;\n",
       "    }\n",
       "\n",
       "    .dataframe thead th {\n",
       "        text-align: right;\n",
       "    }\n",
       "</style>\n",
       "<table border=\"1\" class=\"dataframe\">\n",
       "  <thead>\n",
       "    <tr style=\"text-align: right;\">\n",
       "      <th></th>\n",
       "      <th>CarCount</th>\n",
       "      <th>BikeCount</th>\n",
       "      <th>BusCount</th>\n",
       "      <th>TruckCount</th>\n",
       "    </tr>\n",
       "    <tr>\n",
       "      <th>Hour</th>\n",
       "      <th></th>\n",
       "      <th></th>\n",
       "      <th></th>\n",
       "      <th></th>\n",
       "    </tr>\n",
       "  </thead>\n",
       "  <tbody>\n",
       "    <tr>\n",
       "      <th>0</th>\n",
       "      <td>1997</td>\n",
       "      <td>322</td>\n",
       "      <td>63</td>\n",
       "      <td>2940</td>\n",
       "    </tr>\n",
       "    <tr>\n",
       "      <th>1</th>\n",
       "      <td>2033</td>\n",
       "      <td>304</td>\n",
       "      <td>84</td>\n",
       "      <td>2826</td>\n",
       "    </tr>\n",
       "    <tr>\n",
       "      <th>2</th>\n",
       "      <td>1971</td>\n",
       "      <td>297</td>\n",
       "      <td>74</td>\n",
       "      <td>2962</td>\n",
       "    </tr>\n",
       "    <tr>\n",
       "      <th>3</th>\n",
       "      <td>2235</td>\n",
       "      <td>339</td>\n",
       "      <td>161</td>\n",
       "      <td>3126</td>\n",
       "    </tr>\n",
       "    <tr>\n",
       "      <th>4</th>\n",
       "      <td>8236</td>\n",
       "      <td>1498</td>\n",
       "      <td>522</td>\n",
       "      <td>1874</td>\n",
       "    </tr>\n",
       "    <tr>\n",
       "      <th>5</th>\n",
       "      <td>10433</td>\n",
       "      <td>1670</td>\n",
       "      <td>655</td>\n",
       "      <td>1450</td>\n",
       "    </tr>\n",
       "    <tr>\n",
       "      <th>6</th>\n",
       "      <td>14389</td>\n",
       "      <td>2940</td>\n",
       "      <td>3825</td>\n",
       "      <td>453</td>\n",
       "    </tr>\n",
       "    <tr>\n",
       "      <th>7</th>\n",
       "      <td>14300</td>\n",
       "      <td>2863</td>\n",
       "      <td>3766</td>\n",
       "      <td>449</td>\n",
       "    </tr>\n",
       "    <tr>\n",
       "      <th>8</th>\n",
       "      <td>14348</td>\n",
       "      <td>2919</td>\n",
       "      <td>3904</td>\n",
       "      <td>448</td>\n",
       "    </tr>\n",
       "    <tr>\n",
       "      <th>9</th>\n",
       "      <td>9803</td>\n",
       "      <td>2355</td>\n",
       "      <td>2966</td>\n",
       "      <td>1611</td>\n",
       "    </tr>\n",
       "    <tr>\n",
       "      <th>10</th>\n",
       "      <td>8152</td>\n",
       "      <td>2291</td>\n",
       "      <td>2873</td>\n",
       "      <td>1975</td>\n",
       "    </tr>\n",
       "    <tr>\n",
       "      <th>11</th>\n",
       "      <td>7319</td>\n",
       "      <td>1714</td>\n",
       "      <td>1263</td>\n",
       "      <td>2688</td>\n",
       "    </tr>\n",
       "    <tr>\n",
       "      <th>12</th>\n",
       "      <td>7470</td>\n",
       "      <td>1727</td>\n",
       "      <td>1236</td>\n",
       "      <td>2713</td>\n",
       "    </tr>\n",
       "    <tr>\n",
       "      <th>13</th>\n",
       "      <td>9107</td>\n",
       "      <td>2786</td>\n",
       "      <td>2468</td>\n",
       "      <td>1778</td>\n",
       "    </tr>\n",
       "    <tr>\n",
       "      <th>14</th>\n",
       "      <td>9288</td>\n",
       "      <td>2993</td>\n",
       "      <td>2782</td>\n",
       "      <td>1360</td>\n",
       "    </tr>\n",
       "    <tr>\n",
       "      <th>15</th>\n",
       "      <td>8706</td>\n",
       "      <td>2716</td>\n",
       "      <td>2443</td>\n",
       "      <td>1303</td>\n",
       "    </tr>\n",
       "    <tr>\n",
       "      <th>16</th>\n",
       "      <td>14769</td>\n",
       "      <td>2909</td>\n",
       "      <td>3915</td>\n",
       "      <td>808</td>\n",
       "    </tr>\n",
       "    <tr>\n",
       "      <th>17</th>\n",
       "      <td>14556</td>\n",
       "      <td>3111</td>\n",
       "      <td>3965</td>\n",
       "      <td>818</td>\n",
       "    </tr>\n",
       "    <tr>\n",
       "      <th>18</th>\n",
       "      <td>13386</td>\n",
       "      <td>2789</td>\n",
       "      <td>3457</td>\n",
       "      <td>1194</td>\n",
       "    </tr>\n",
       "    <tr>\n",
       "      <th>19</th>\n",
       "      <td>9514</td>\n",
       "      <td>1915</td>\n",
       "      <td>1707</td>\n",
       "      <td>2187</td>\n",
       "    </tr>\n",
       "    <tr>\n",
       "      <th>20</th>\n",
       "      <td>9126</td>\n",
       "      <td>1670</td>\n",
       "      <td>1627</td>\n",
       "      <td>2157</td>\n",
       "    </tr>\n",
       "    <tr>\n",
       "      <th>21</th>\n",
       "      <td>9548</td>\n",
       "      <td>1660</td>\n",
       "      <td>1607</td>\n",
       "      <td>2365</td>\n",
       "    </tr>\n",
       "    <tr>\n",
       "      <th>22</th>\n",
       "      <td>1857</td>\n",
       "      <td>326</td>\n",
       "      <td>55</td>\n",
       "      <td>3103</td>\n",
       "    </tr>\n",
       "    <tr>\n",
       "      <th>23</th>\n",
       "      <td>1898</td>\n",
       "      <td>280</td>\n",
       "      <td>54</td>\n",
       "      <td>3019</td>\n",
       "    </tr>\n",
       "  </tbody>\n",
       "</table>\n",
       "</div>"
      ],
      "text/plain": [
       "      CarCount  BikeCount  BusCount  TruckCount\n",
       "Hour                                           \n",
       "0         1997        322        63        2940\n",
       "1         2033        304        84        2826\n",
       "2         1971        297        74        2962\n",
       "3         2235        339       161        3126\n",
       "4         8236       1498       522        1874\n",
       "5        10433       1670       655        1450\n",
       "6        14389       2940      3825         453\n",
       "7        14300       2863      3766         449\n",
       "8        14348       2919      3904         448\n",
       "9         9803       2355      2966        1611\n",
       "10        8152       2291      2873        1975\n",
       "11        7319       1714      1263        2688\n",
       "12        7470       1727      1236        2713\n",
       "13        9107       2786      2468        1778\n",
       "14        9288       2993      2782        1360\n",
       "15        8706       2716      2443        1303\n",
       "16       14769       2909      3915         808\n",
       "17       14556       3111      3965         818\n",
       "18       13386       2789      3457        1194\n",
       "19        9514       1915      1707        2187\n",
       "20        9126       1670      1627        2157\n",
       "21        9548       1660      1607        2365\n",
       "22        1857        326        55        3103\n",
       "23        1898        280        54        3019"
      ]
     },
     "execution_count": 98,
     "metadata": {},
     "output_type": "execute_result"
    }
   ],
   "source": [
    "hourly_traffic"
   ]
  },
  {
   "cell_type": "markdown",
   "id": "2bd59909",
   "metadata": {},
   "source": [
    "## Line Plot"
   ]
  },
  {
   "cell_type": "code",
   "execution_count": 106,
   "id": "c10d0228",
   "metadata": {},
   "outputs": [
    {
     "data": {
      "text/plain": [
       "<Figure size 1000x600 with 0 Axes>"
      ]
     },
     "metadata": {},
     "output_type": "display_data"
    },
    {
     "data": {
      "image/png": "[encoded data removed]",
      "text/plain": [
       "<Figure size 640x480 with 1 Axes>"
      ]
     },
     "metadata": {},
     "output_type": "display_data"
    }
   ],
   "source": [
    "plt.figure(figsize=(10,6))\n",
    "hourly_traffic.plot(kind=\"line\", marker=\"o\")\n",
    "plt.xlabel(\"Hour of the day\")\n",
    "plt.ylabel(\"Total Count\")\n",
    "plt.title(\"Traffic by Hour of the Day\")\n",
    "\n",
    "plt.xticks(range(24))\n",
    "plt.show()"
   ]
  },
  {
   "cell_type": "markdown",
   "id": "6b087335",
   "metadata": {},
   "source": [
    "* From the above Line plot we can observe the hourly Car,Bus,Bike and Truck Count"
   ]
  },
  {
   "cell_type": "markdown",
   "id": "4a3db2aa",
   "metadata": {},
   "source": [
    "## Importiing the Libraries to Build Model"
   ]
  },
  {
   "cell_type": "code",
   "execution_count": 107,
   "id": "31bcee81",
   "metadata": {},
   "outputs": [],
   "source": [
    "from sklearn.model_selection import train_test_split\n",
    "from sklearn.metrics import confusion_matrix,accuracy_score\n",
    "from catboost import CatBoostClassifier"
   ]
  },
  {
   "cell_type": "code",
   "execution_count": 108,
   "id": "cdfce3af",
   "metadata": {},
   "outputs": [
    {
     "data": {
      "text/html": [
       "<div>\n",
       "<style scoped>\n",
       "    .dataframe tbody tr th:only-of-type {\n",
       "        vertical-align: middle;\n",
       "    }\n",
       "\n",
       "    .dataframe tbody tr th {\n",
       "        vertical-align: top;\n",
       "    }\n",
       "\n",
       "    .dataframe thead th {\n",
       "        text-align: right;\n",
       "    }\n",
       "</style>\n",
       "<table border=\"1\" class=\"dataframe\">\n",
       "  <thead>\n",
       "    <tr style=\"text-align: right;\">\n",
       "      <th></th>\n",
       "      <th>Time</th>\n",
       "      <th>Date</th>\n",
       "      <th>Day of the week</th>\n",
       "      <th>CarCount</th>\n",
       "      <th>BikeCount</th>\n",
       "      <th>BusCount</th>\n",
       "      <th>TruckCount</th>\n",
       "      <th>Total</th>\n",
       "      <th>Traffic Situation</th>\n",
       "      <th>Hour</th>\n",
       "    </tr>\n",
       "  </thead>\n",
       "  <tbody>\n",
       "    <tr>\n",
       "      <th>1248</th>\n",
       "      <td>12:00:00 AM</td>\n",
       "      <td>23</td>\n",
       "      <td>Monday</td>\n",
       "      <td>13</td>\n",
       "      <td>2</td>\n",
       "      <td>1</td>\n",
       "      <td>17</td>\n",
       "      <td>33</td>\n",
       "      <td>normal</td>\n",
       "      <td>0</td>\n",
       "    </tr>\n",
       "    <tr>\n",
       "      <th>2648</th>\n",
       "      <td>2:00:00 PM</td>\n",
       "      <td>6</td>\n",
       "      <td>Monday</td>\n",
       "      <td>70</td>\n",
       "      <td>21</td>\n",
       "      <td>32</td>\n",
       "      <td>18</td>\n",
       "      <td>141</td>\n",
       "      <td>high</td>\n",
       "      <td>14</td>\n",
       "    </tr>\n",
       "    <tr>\n",
       "      <th>2649</th>\n",
       "      <td>2:15:00 PM</td>\n",
       "      <td>6</td>\n",
       "      <td>Monday</td>\n",
       "      <td>49</td>\n",
       "      <td>21</td>\n",
       "      <td>11</td>\n",
       "      <td>20</td>\n",
       "      <td>101</td>\n",
       "      <td>normal</td>\n",
       "      <td>14</td>\n",
       "    </tr>\n",
       "    <tr>\n",
       "      <th>2650</th>\n",
       "      <td>2:30:00 PM</td>\n",
       "      <td>6</td>\n",
       "      <td>Monday</td>\n",
       "      <td>51</td>\n",
       "      <td>22</td>\n",
       "      <td>12</td>\n",
       "      <td>16</td>\n",
       "      <td>101</td>\n",
       "      <td>normal</td>\n",
       "      <td>14</td>\n",
       "    </tr>\n",
       "    <tr>\n",
       "      <th>2651</th>\n",
       "      <td>2:45:00 PM</td>\n",
       "      <td>6</td>\n",
       "      <td>Monday</td>\n",
       "      <td>84</td>\n",
       "      <td>12</td>\n",
       "      <td>15</td>\n",
       "      <td>15</td>\n",
       "      <td>126</td>\n",
       "      <td>normal</td>\n",
       "      <td>14</td>\n",
       "    </tr>\n",
       "  </tbody>\n",
       "</table>\n",
       "</div>"
      ],
      "text/plain": [
       "             Time  Date Day of the week  CarCount  BikeCount  BusCount  \\\n",
       "1248  12:00:00 AM    23          Monday        13          2         1   \n",
       "2648   2:00:00 PM     6          Monday        70         21        32   \n",
       "2649   2:15:00 PM     6          Monday        49         21        11   \n",
       "2650   2:30:00 PM     6          Monday        51         22        12   \n",
       "2651   2:45:00 PM     6          Monday        84         12        15   \n",
       "\n",
       "      TruckCount  Total Traffic Situation  Hour  \n",
       "1248          17     33            normal     0  \n",
       "2648          18    141              high    14  \n",
       "2649          20    101            normal    14  \n",
       "2650          16    101            normal    14  \n",
       "2651          15    126            normal    14  "
      ]
     },
     "execution_count": 108,
     "metadata": {},
     "output_type": "execute_result"
    }
   ],
   "source": [
    "df.head()"
   ]
  },
  {
   "cell_type": "markdown",
   "id": "6daba75a",
   "metadata": {},
   "source": [
    "## Train-Test Split"
   ]
  },
  {
   "cell_type": "code",
   "execution_count": 109,
   "id": "0197ce91",
   "metadata": {},
   "outputs": [],
   "source": [
    "X=df.drop(['Traffic Situation','Total','Hour'],axis=1)\n",
    "y=df['Traffic Situation']"
   ]
  },
  {
   "cell_type": "code",
   "execution_count": 110,
   "id": "ccc694ca",
   "metadata": {},
   "outputs": [],
   "source": [
    "X_train, X_test, y_train, y_test = train_test_split(X, y, random_state=30)"
   ]
  },
  {
   "cell_type": "code",
   "execution_count": 111,
   "id": "fe4543c6",
   "metadata": {},
   "outputs": [
    {
     "data": {
      "text/plain": [
       "((2232, 7), (744, 7), (2232,), (744,))"
      ]
     },
     "execution_count": 111,
     "metadata": {},
     "output_type": "execute_result"
    }
   ],
   "source": [
    "X_train.shape,X_test.shape,y_train.shape,y_test.shape"
   ]
  },
  {
   "cell_type": "code",
   "execution_count": null,
   "id": "15140a60",
   "metadata": {},
   "outputs": [],
   "source": []
  },
  {
   "cell_type": "markdown",
   "id": "1387b3a2",
   "metadata": {},
   "source": [
    "## Traiining with CatBoot"
   ]
  },
  {
   "cell_type": "code",
   "execution_count": 112,
   "id": "f24a77d2",
   "metadata": {},
   "outputs": [],
   "source": [
    "model=CatBoostClassifier(metric_period=100,cat_features=(0,2),loss_function='MultiClass')"
   ]
  },
  {
   "cell_type": "code",
   "execution_count": 114,
   "id": "a74dfd46",
   "metadata": {},
   "outputs": [
    {
     "name": "stdout",
     "output_type": "stream",
     "text": [
      "Learning rate set to 0.082434\n",
      "0:\tlearn: 1.2354760\ttotal: 39.4ms\tremaining: 39.3s\n",
      "100:\tlearn: 0.1285890\ttotal: 3.53s\tremaining: 31.4s\n",
      "200:\tlearn: 0.0754963\ttotal: 7.14s\tremaining: 28.4s\n",
      "300:\tlearn: 0.0526734\ttotal: 10.7s\tremaining: 24.9s\n",
      "400:\tlearn: 0.0398248\ttotal: 14.2s\tremaining: 21.2s\n",
      "500:\tlearn: 0.0314955\ttotal: 17.9s\tremaining: 17.8s\n",
      "600:\tlearn: 0.0260506\ttotal: 23.3s\tremaining: 15.5s\n",
      "700:\tlearn: 0.0221605\ttotal: 28.2s\tremaining: 12s\n",
      "800:\tlearn: 0.0187333\ttotal: 32.5s\tremaining: 8.07s\n",
      "900:\tlearn: 0.0163189\ttotal: 36.6s\tremaining: 4.02s\n",
      "999:\tlearn: 0.0144441\ttotal: 40.2s\tremaining: 0us\n",
      "Accuracy Score:\n",
      " 0.97\n",
      "Confusion Matrix:\n",
      " [[185   3   0   2]\n",
      " [  4  64   0   2]\n",
      " [  0   0  64   2]\n",
      " [  3   1   3 411]]\n"
     ]
    }
   ],
   "source": [
    "model.fit(X_train,y_train)\n",
    "y_pred=model.predict(X_test)\n",
    "acc=round(accuracy_score(y_test,y_pred),2)\n",
    "print('Accuracy Score:\\n',acc)\n",
    "cm=confusion_matrix(y_test,y_pred)\n",
    "print('Confusion Matrix:\\n',cm)"
   ]
  },
  {
   "cell_type": "markdown",
   "id": "a148534c",
   "metadata": {},
   "source": [
    "## Feature Importance"
   ]
  },
  {
   "cell_type": "code",
   "execution_count": 117,
   "id": "d41582d5",
   "metadata": {},
   "outputs": [],
   "source": [
    "feature_importance = model.get_feature_importance()\n",
    "feature_names = X_train.columns"
   ]
  },
  {
   "cell_type": "markdown",
   "id": "bb93794c",
   "metadata": {},
   "source": [
    "## Combineing feature importance and names into a DataFrame and sort by importance"
   ]
  },
  {
   "cell_type": "code",
   "execution_count": 118,
   "id": "1c166ad5",
   "metadata": {},
   "outputs": [],
   "source": [
    "feature_df = pd.DataFrame({'Feature': feature_names, 'Importance': feature_importance})\n",
    "feature_df = feature_df.sort_values(by='Importance', ascending=False)"
   ]
  },
  {
   "cell_type": "markdown",
   "id": "aaf2adb2",
   "metadata": {},
   "source": [
    "## Plotting feature importance"
   ]
  },
  {
   "cell_type": "code",
   "execution_count": 121,
   "id": "8ce22bcd",
   "metadata": {},
   "outputs": [
    {
     "data": {
      "image/png": "[encoded data removed]",
      "text/plain": [
       "<Figure size 1000x600 with 1 Axes>"
      ]
     },
     "metadata": {},
     "output_type": "display_data"
    }
   ],
   "source": [
    "plt.figure(figsize=(10, 6))\n",
    "sns.barplot(x=\"Feature\", y=\"Importance\",data=feature_df,palette=\"YlGnBu_r\")\n",
    "plt.xlabel('Features')\n",
    "plt.ylabel('Feature Importance')\n",
    "plt.title('CatBoost Classifier')\n",
    "plt.show()\n"
   ]
  },
  {
   "cell_type": "code",
   "execution_count": null,
   "id": "fec0fa43",
   "metadata": {},
   "outputs": [],
   "source": []
  }
 ],
 "metadata": {
  "kernelspec": {
   "display_name": "Python 3 (ipykernel)",
   "language": "python",
   "name": "python3"
  },
  "language_info": {
   "codemirror_mode": {
    "name": "ipython",
    "version": 3
   },
   "file_extension": ".py",
   "mimetype": "text/x-python",
   "name": "python",
   "nbconvert_exporter": "python",
   "pygments_lexer": "ipython3",
   "version": "3.9.13"
  }
 },
 "nbformat": 4,
 "nbformat_minor": 5
}
